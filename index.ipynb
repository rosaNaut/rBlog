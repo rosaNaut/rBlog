{
  "cells": [
    {
      "cell_type": "raw",
      "metadata": {},
      "source": [
        "---\n",
        "html:\n",
        "title: \"Raphael P. Rosa, Ph.D.\"\n",
        "subtitle: \"Research fellow at University of Bergamo (Italy)\"\n",
        "image: Nautillus.png\n",
        "about:\n",
        "  template: solana\n",
        "  image-width: 23em\n",
        "  image-alt: \"A Nautillus shell representing the path of scientific knowledge\"\n",
        "  links:\n",
        "    - icon: linkedin\n",
        "      text: LinkedIn\n",
        "      href: https://www.linkedin.com/in/raphael-palucci-rosa-79767579/\n",
        "    - icon: github\n",
        "      text: Github\n",
        "      href: https://github.com/rosaNaut\n",
        "    - icon: orcid\n",
        "      text: ORCID\n",
        "      href: https://orcid.org/0000-0002-9744-9511\n",
        "comments: false\n",
        "---"
      ],
      "id": "c7820b9e"
    },
    {
      "cell_type": "markdown",
      "metadata": {},
      "source": [
        "```{css}\n",
        "#about img {\n",
        "  margin;top: 20px; \n",
        "}\n",
        "```\n",
        "\n",
        "```{=html}\n",
        "<div class=\"about-contents\">\n",
        "  <div id = \"hero-heading\">\n",
        "    <p>\n",
        "I am a researcher and an enthusiast for R programming and 3D-printing.\n",
        "<br>\n",
        "My current field of research is the development of smart textiles for medical applications, where our group is developing sensors to help rehabilitate people with severe motion control. Furthermore, I also work with the synthesis of photosensitive bio resins for 3D-printing and their functionalization (to be conductive, flame retardant, elastic, antibacterial, and so on). I hope that my work could someday help create a more sustainable world.\n",
        "    </p>\n",
        "    <p></p>\n",
        "    <a class=\"about-links subtitle\" href=\"about.qmd\">\n",
        "    Learn more about me here →\n",
        "    </a>\n",
        "  </div>\n",
        "</div>\n",
        "```"
      ],
      "id": "831a5b3e"
    }
  ],
  "metadata": {
    "kernelspec": {
      "display_name": "Python 3",
      "language": "python",
      "name": "python3"
    }
  },
  "nbformat": 4,
  "nbformat_minor": 5
}